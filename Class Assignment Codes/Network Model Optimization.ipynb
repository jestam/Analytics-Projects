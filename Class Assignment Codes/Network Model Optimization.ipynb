{
 "cells": [
  {
   "cell_type": "markdown",
   "metadata": {},
   "source": [
    "# Import Gurobi"
   ]
  },
  {
   "cell_type": "code",
   "execution_count": 1,
   "metadata": {},
   "outputs": [],
   "source": [
    "from gurobipy import *"
   ]
  },
  {
   "cell_type": "markdown",
   "metadata": {},
   "source": [
    "# Define variables & create model"
   ]
  },
  {
   "cell_type": "code",
   "execution_count": 2,
   "metadata": {},
   "outputs": [
    {
     "name": "stdout",
     "output_type": "stream",
     "text": [
      "Academic license - for non-commercial use only - expires 2021-03-14\n",
      "Using license file /Users/jessietam/gurobi.lic\n"
     ]
    }
   ],
   "source": [
    "#2 days\n",
    "days = 2\n",
    "\n",
    "#4 shows\n",
    "shows = 4\n",
    "\n",
    "#Cost of each day-show combo\n",
    "cost = [[300, 200, 500, 130],\n",
    "       [200, 210, 140, 30]]\n",
    "\n",
    "#Number of male viewers for each day-show combo\n",
    "males = [[0.5, 2, 0.2, 1],\n",
    "        [8, 7, 6, 2]]\n",
    "\n",
    "#Create model\n",
    "m = Model()\n",
    "\n",
    "#Create each day-show combo AKA decision variables\n",
    "x = {}\n",
    "for i in range(days):\n",
    "    for j in range(shows):\n",
    "        x[(i,j)] = m.addVar(vtype=GRB.INTEGER, name='DayShow%d,%d' % (i,j))\n",
    "\n",
    "#Update the model\n",
    "m.update()"
   ]
  },
  {
   "cell_type": "markdown",
   "metadata": {},
   "source": [
    "# Objective Function & Constraints"
   ]
  },
  {
   "cell_type": "code",
   "execution_count": 3,
   "metadata": {},
   "outputs": [
    {
     "name": "stdout",
     "output_type": "stream",
     "text": [
      "Gurobi Optimizer version 9.1.1 build v9.1.1rc0 (mac64)\n",
      "Thread count: 2 physical cores, 4 logical processors, using up to 4 threads\n",
      "Optimize a model with 9 rows, 8 columns and 16 nonzeros\n",
      "Model fingerprint: 0x327d2069\n",
      "Variable types: 0 continuous, 8 integer (0 binary)\n",
      "Coefficient statistics:\n",
      "  Matrix range     [1e+00, 5e+02]\n",
      "  Objective range  [2e-01, 8e+00]\n",
      "  Bounds range     [0e+00, 0e+00]\n",
      "  RHS range        [1e+01, 1e+04]\n",
      "Found heuristic solution: objective 27.0000000\n",
      "Presolve removed 8 rows and 0 columns\n",
      "Presolve time: 0.00s\n",
      "Presolved: 1 rows, 8 columns, 8 nonzeros\n",
      "Variable types: 0 continuous, 8 integer (0 binary)\n",
      "\n",
      "Root relaxation: objective 2.615000e+02, 1 iterations, 0.00 seconds\n",
      "\n",
      "    Nodes    |    Current Node    |     Objective Bounds      |     Work\n",
      " Expl Unexpl |  Obj  Depth IntInf | Incumbent    BestBd   Gap | It/Node Time\n",
      "\n",
      "*    0     0               0     261.5000000  261.50000  0.00%     -    0s\n",
      "\n",
      "Explored 0 nodes (1 simplex iterations) in 0.05 seconds\n",
      "Thread count was 4 (of 4 available processors)\n",
      "\n",
      "Solution count 2: 261.5 27 \n",
      "\n",
      "Optimal solution found (tolerance 1.00e-04)\n",
      "Best objective 2.615000000000e+02, best bound 2.615000000000e+02, gap 0.0000%\n"
     ]
    }
   ],
   "source": [
    "#Objective function  - maximize number of male viewers\n",
    "m.setObjective(quicksum(quicksum(males[i][j]*x[(i,j)] for i in range(days)) for j in range(shows)), GRB.MAXIMIZE)\n",
    "\n",
    "\n",
    "#Max 10 spots for each day show combo\n",
    "for i in range(days):\n",
    "    for j in range(shows):\n",
    "        m.addConstr(x[(i,j)] <= 10)\n",
    "\n",
    "#Budget is 10,000\n",
    "m.addConstr(quicksum(quicksum(cost[i][j]*x[(i,j)] for i in range(days)) for j in range(shows)) <= 10000)\n",
    "\n",
    "#Optimize\n",
    "m.optimize()"
   ]
  },
  {
   "cell_type": "markdown",
   "metadata": {},
   "source": [
    "# Print Solution"
   ]
  },
  {
   "cell_type": "code",
   "execution_count": 4,
   "metadata": {},
   "outputs": [
    {
     "name": "stdout",
     "output_type": "stream",
     "text": [
      "DayShow0,0: 3\n",
      "DayShow0,1: 10\n",
      "DayShow0,2: -0\n",
      "DayShow0,3: 10\n",
      "DayShow1,0: 10\n",
      "DayShow1,1: 10\n",
      "DayShow1,2: 10\n",
      "DayShow1,3: 10\n",
      "Obj: 261.5\n"
     ]
    }
   ],
   "source": [
    "#Print out the optimal solution\n",
    "for v in m.getVars():\n",
    "    print('%s: %g' % (v.varName, v.x))\n",
    "print('Obj: %g' % m.objVal)"
   ]
  },
  {
   "cell_type": "code",
   "execution_count": 5,
   "metadata": {},
   "outputs": [
    {
     "name": "stdout",
     "output_type": "stream",
     "text": [
      "Number of solutions:  2\n",
      "Now showing all possible solutions and objective value\n",
      "Objective value is: 261.5 \n",
      "DayShow0,0 3\n",
      "DayShow0,1 10\n",
      "DayShow0,2 -0\n",
      "DayShow0,3 10\n",
      "DayShow1,0 10\n",
      "DayShow1,1 10\n",
      "DayShow1,2 10\n",
      "DayShow1,3 10\n",
      "Objective value is: 27 \n",
      "DayShow0,0 10\n",
      "DayShow0,1 10\n",
      "DayShow0,2 10\n",
      "DayShow0,3 -0\n",
      "DayShow1,0 -0\n",
      "DayShow1,1 -0\n",
      "DayShow1,2 -0\n",
      "DayShow1,3 -0\n"
     ]
    }
   ],
   "source": [
    "#Print other solutions to see if another solution has same object value\n",
    "print('Number of solutions: ',m.SolCount)\n",
    "print('Now showing all possible solutions and objective value') \n",
    "for s in range(m.SolCount):\n",
    "    m.setParam(GRB.Param.SolutionNumber, s) \n",
    "    print('Objective value is:','%g ' % m.PoolObjVal) \n",
    "    for q in m.getVars():\n",
    "        print('%s %g' % (q.varName, q.Xn))"
   ]
  },
  {
   "cell_type": "code",
   "execution_count": null,
   "metadata": {},
   "outputs": [],
   "source": []
  }
 ],
 "metadata": {
  "kernelspec": {
   "display_name": "Python 3",
   "language": "python",
   "name": "python3"
  },
  "language_info": {
   "codemirror_mode": {
    "name": "ipython",
    "version": 3
   },
   "file_extension": ".py",
   "mimetype": "text/x-python",
   "name": "python",
   "nbconvert_exporter": "python",
   "pygments_lexer": "ipython3",
   "version": "3.7.6"
  }
 },
 "nbformat": 4,
 "nbformat_minor": 4
}
