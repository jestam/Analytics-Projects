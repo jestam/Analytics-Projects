{
 "cells": [
  {
   "cell_type": "markdown",
   "metadata": {},
   "source": [
    "# Import Packages & Datasets"
   ]
  },
  {
   "cell_type": "code",
   "execution_count": 13,
   "metadata": {},
   "outputs": [],
   "source": [
    "# Data manipulation\n",
    "import pandas as pd\n",
    "\n",
    "# Modeling and plotting\n",
    "from sklearn import svm\n",
    "from sklearn.svm import LinearSVC\n",
    "from sklearn.preprocessing import StandardScaler\n",
    "from sklearn.metrics import confusion_matrix, roc_curve, auc, precision_recall_curve, plot_precision_recall_curve, roc_auc_score\n",
    "import matplotlib.pyplot as plt"
   ]
  },
  {
   "cell_type": "code",
   "execution_count": 3,
   "metadata": {},
   "outputs": [],
   "source": [
    "# Import datasets\n",
    "train = pd.read_csv(\"/Users/jessietam/Desktop/MLProject21_train.csv\")\n",
    "valid = pd.read_csv(\"/Users/jessietam/Desktop/MLProject21_valid.csv\")\n",
    "test = pd.read_csv(\"/Users/jessietam/Desktop/MLProject21_test.csv\")"
   ]
  },
  {
   "cell_type": "markdown",
   "metadata": {},
   "source": [
    "# Clean & Scale Training & Validation"
   ]
  },
  {
   "cell_type": "code",
   "execution_count": 4,
   "metadata": {},
   "outputs": [],
   "source": [
    "# Create Column Index\n",
    "columns = train.columns\n",
    "\n",
    "# Convert categorical to dummy variables\n",
    "train = pd.get_dummies(train)\n",
    "\n",
    "# sample 50,000 observations\n",
    "train=train.sample(50000,random_state=123)\n",
    "\n",
    "# Separate predictors from targets\n",
    "x_train = train.drop(columns = ['binary.target1', 'binary.target2', 'cont.target'])\n",
    "y_train = train['binary.target1']\n",
    "\n",
    "# Repeat for validation set\n",
    "columns = valid.columns\n",
    "valid = pd.get_dummies(valid)\n",
    "valid = valid.sample(50000,random_state=1234)\n",
    "x_valid = valid.drop(columns = ['binary.target1', 'binary.target2', 'cont.target'])\n",
    "y_valid = valid['binary.target1']"
   ]
  },
  {
   "cell_type": "code",
   "execution_count": 5,
   "metadata": {},
   "outputs": [],
   "source": [
    "# create scaler and scale traning\n",
    "scaler = StandardScaler().fit(x_train)\n",
    "x_train = scaler.transform(x_train)\n",
    "\n",
    "# Repeat scaling for validation set\n",
    "x_valid = scaler.transform(x_valid)"
   ]
  },
  {
   "cell_type": "markdown",
   "metadata": {},
   "source": [
    "# Create Linear, RBF, & Polynomial SVC Models"
   ]
  },
  {
   "cell_type": "code",
   "execution_count": 7,
   "metadata": {},
   "outputs": [],
   "source": [
    "# create Linear SVC & Gaussian RBF classifer\n",
    "clf = LinearSVC(dual=False, fit_intercept=True, max_iter=50000, random_state=123)\n",
    "rbf_svc = svm.SVC(kernel='rbf', gamma='scale', random_state=123,probability=True)\n",
    "poly_svc = svm.SVC(kernel='poly', degree=3, random_state=123,probability=True)\n",
    "\n",
    "# fit models to training\n",
    "clf.fit(x_train, y_train)\n",
    "rbf_svc.fit(x_train, y_train)\n",
    "poly_svc.fit(x_train, y_train)\n",
    "\n",
    "# score training\n",
    "score_train = clf.score(x_train, y_train)\n",
    "score_train_rbf = rbf_svc.score(x_train, y_train)\n",
    "score_train_poly = poly_svc.score(x_train, y_train)"
   ]
  },
  {
   "cell_type": "markdown",
   "metadata": {},
   "source": [
    "# Prediction & Model Accuracy"
   ]
  },
  {
   "cell_type": "code",
   "execution_count": 8,
   "metadata": {},
   "outputs": [],
   "source": [
    "# predict training\n",
    "train_pred = clf.predict(x_train)\n",
    "train_pred_rbf = rbf_svc.predict(x_train)\n",
    "train_pred_poly = poly_svc.predict(x_train)"
   ]
  },
  {
   "cell_type": "code",
   "execution_count": 9,
   "metadata": {},
   "outputs": [
    {
     "name": "stdout",
     "output_type": "stream",
     "text": [
      "Training Score: 0.87378\n",
      "Training Positive Prediction Value: 0.5840589417280643\n",
      "Training Area Under Curve: 0.5592950384155697\n",
      "Training RBF Score: 0.90046\n",
      "Training RBF Positive Prediction Value: 0.9168858495528669\n",
      "Training RBF Area Under Curve: 0.6309914347647214\n",
      "Training Polynomial Score: 0.91548\n",
      "Training Polynomial Positive Prediction Value: 0.956964006259781\n",
      "Training Polynomial Area Under Curve: 0.6851099323703709\n"
     ]
    }
   ],
   "source": [
    "# confusion matrix\n",
    "tn,fp,fn,tp = confusion_matrix(y_train, train_pred).ravel()\n",
    "tn_rbf,fp_rbf,fn_rbf,tp_rbf = confusion_matrix(y_train, train_pred_rbf).ravel()\n",
    "tn_poly,fp_poly,fn_poly,tp_poly = confusion_matrix(y_train, train_pred_poly).ravel()\n",
    "\n",
    "# Positive Prediction Value\n",
    "ppv= tp/(tp+fp)\n",
    "ppv_rbf = tp_rbf/(tp_rbf+fp_rbf)\n",
    "ppv_poly = tp_poly/(tp_poly+fp_poly)\n",
    "\n",
    "# Area Under Curve\n",
    "fpr, tpr, threshold = roc_curve(y_train, train_pred, pos_label=1)\n",
    "auc_train = auc(fpr,tpr)\n",
    "\n",
    "print(\"Training Score:\", score_train)\n",
    "print(\"Training Positive Prediction Value:\", ppv)\n",
    "print(\"Training Area Under Curve:\", auc_train)\n",
    "\n",
    "\n",
    "fpr_rbf, tpr_rbf, threshold_rbf = roc_curve(y_train, train_pred_rbf, pos_label=1)\n",
    "auc_train_rbf = auc(fpr_rbf,tpr_rbf)\n",
    "\n",
    "print(\"Training RBF Score:\", score_train_rbf)\n",
    "print(\"Training RBF Positive Prediction Value:\", ppv_rbf)\n",
    "print(\"Training RBF Area Under Curve:\", auc_train_rbf)\n",
    "\n",
    "\n",
    "fpr_poly, tpr_poly, threshold_poly = roc_curve(y_train, train_pred_poly, pos_label=1)\n",
    "auc_train_poly = auc(fpr_poly,tpr_poly)\n",
    "\n",
    "print(\"Training Polynomial Score:\", score_train_poly)\n",
    "print(\"Training Polynomial Positive Prediction Value:\", ppv_poly)\n",
    "print(\"Training Polynomial Area Under Curve:\", auc_train_poly)"
   ]
  },
  {
   "cell_type": "markdown",
   "metadata": {},
   "source": [
    "# Model on Validation"
   ]
  },
  {
   "cell_type": "code",
   "execution_count": 10,
   "metadata": {},
   "outputs": [],
   "source": [
    "# score validation\n",
    "score_valid = clf.score(x_valid, y_valid)\n",
    "score_valid_rbf = rbf_svc.score(x_valid, y_valid)\n",
    "score_valid_poly = poly_svc.score(x_valid, y_valid)\n",
    "\n",
    "# predict validation\n",
    "valid_pred = clf.predict(x_valid)\n",
    "valid_pred_rbf = rbf_svc.predict(x_valid)\n",
    "valid_pred_poly = poly_svc.predict(x_valid)\n",
    "\n",
    "\n",
    "pred_probs = clf._predict_proba_lr(x_valid)\n",
    "pred_probs_rbf = rbf_svc.predict_proba(x_valid)\n",
    "pred_probs_poly = poly_svc.predict_proba(x_valid)"
   ]
  },
  {
   "cell_type": "code",
   "execution_count": 11,
   "metadata": {},
   "outputs": [
    {
     "name": "stdout",
     "output_type": "stream",
     "text": [
      "Validation Score: 0.86748\n",
      "Validation Positive Prediction Value: 0.5757396449704142\n",
      "Validation Area Under Curve: 0.6195845884827925\n",
      "Validation Score: 0.86258\n",
      "Validation Positive Prediction Value: 0.5507026205848842\n",
      "Validation Area Under Curve: 0.5877689643105041\n",
      "Validation Polynomial Score: 0.85646\n",
      "Validation Polynomial Positive Prediction Value: 0.4957617909150185\n",
      "Validation Polynomial Area Under Curve: 0.6327150500229196\n"
     ]
    }
   ],
   "source": [
    "# confusion matrix\n",
    "tn,fp,fn,tp = confusion_matrix(y_valid, valid_pred).ravel()\n",
    "tn_rbf,fp_rbf,fn_rbf,tp_rbf = confusion_matrix(y_valid, valid_pred_rbf).ravel()\n",
    "tn_poly,fp_poly,fn_poly,tp_poly = confusion_matrix(y_valid, valid_pred_poly).ravel()\n",
    "\n",
    "# Positive Prediction Value\n",
    "ppv = tp/(tp+fp)\n",
    "ppv_rbf = tp_rbf/(tp_rbf+fp_rbf)\n",
    "ppv_poly = tp_poly/(tp_poly+fp_poly)\n",
    "\n",
    "\n",
    "# Area Under Curve\n",
    "fpr, tpr, threshold = roc_curve(y_valid, valid_pred, pos_label=1)\n",
    "auc_valid = auc(fpr,tpr)\n",
    "\n",
    "print(\"Validation Score:\", score_valid)\n",
    "print(\"Validation Positive Prediction Value:\", ppv)\n",
    "print(\"Validation Area Under Curve:\", auc_valid)\n",
    "\n",
    "\n",
    "fpr_rbf, tpr_rbf, threshold_rbf = roc_curve(y_valid, valid_pred_rbf, pos_label=1)\n",
    "auc_valid_rbf = auc(fpr_rbf,tpr_rbf)\n",
    "\n",
    "print(\"Validation RBF Score:\", score_valid_rbf)\n",
    "print(\"Validation RBF Positive Prediction Value:\", ppv_rbf)\n",
    "print(\"Validation RBF Area Under Curve:\", auc_valid_rbf)\n",
    "\n",
    "\n",
    "fpr_poly, tpr_poly, threshold_poly = roc_curve(y_valid, valid_pred_poly, pos_label=1)\n",
    "auc_valid_poly = auc(fpr_poly,tpr_poly)\n",
    "\n",
    "print(\"Validation Polynomial Score:\", score_valid_poly)\n",
    "print(\"Validation Polynomial Positive Prediction Value:\", ppv_poly)\n",
    "print(\"Validation Polynomial Area Under Curve:\", auc_valid_poly)"
   ]
  },
  {
   "cell_type": "code",
   "execution_count": 29,
   "metadata": {
    "scrolled": true
   },
   "outputs": [
    {
     "data": {
      "text/plain": [
       "<matplotlib.legend.Legend at 0x7fe28894bf10>"
      ]
     },
     "execution_count": 29,
     "metadata": {},
     "output_type": "execute_result"
    },
    {
     "data": {
      "image/png": "[encoded data removed]",
      "text/plain": [
       "<Figure size 432x288 with 1 Axes>"
      ]
     },
     "metadata": {
      "needs_background": "light"
     },
     "output_type": "display_data"
    }
   ],
   "source": [
    "plt.figure()\n",
    "plt.plot(fpr_poly, tpr_poly, marker=\".\", label=f\"AUC = {roc_auc_score(y_valid, pred_probs_poly[:, -1])}\")\n",
    "plt.title(\"ROC Curve\")\n",
    "plt.ylabel(\"True Positive Rate\")\n",
    "plt.xlabel(\"False Positive Rate\")\n",
    "plt.legend(loc=\"lower right\")"
   ]
  },
  {
   "cell_type": "code",
   "execution_count": null,
   "metadata": {},
   "outputs": [],
   "source": []
  }
 ],
 "metadata": {
  "kernelspec": {
   "display_name": "Python 3",
   "language": "python",
   "name": "python3"
  },
  "language_info": {
   "codemirror_mode": {
    "name": "ipython",
    "version": 3
   },
   "file_extension": ".py",
   "mimetype": "text/x-python",
   "name": "python",
   "nbconvert_exporter": "python",
   "pygments_lexer": "ipython3",
   "version": "3.7.6"
  }
 },
 "nbformat": 4,
 "nbformat_minor": 4
}

