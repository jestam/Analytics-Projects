{
 "cells": [
  {
   "cell_type": "markdown",
   "metadata": {},
   "source": [
    "### Import Gurobi"
   ]
  },
  {
   "cell_type": "code",
   "execution_count": 1,
   "metadata": {},
   "outputs": [],
   "source": [
    "#import gurobipy\n",
    "from gurobipy import *"
   ]
  },
  {
   "cell_type": "markdown",
   "metadata": {},
   "source": [
    "### Create Model, Decision Variables & Objective Function"
   ]
  },
  {
   "cell_type": "code",
   "execution_count": 2,
   "metadata": {},
   "outputs": [
    {
     "name": "stdout",
     "output_type": "stream",
     "text": [
      "Academic license - for non-commercial use only - expires 2021-03-14\n",
      "Using license file /Users/jessietam/gurobi.lic\n"
     ]
    }
   ],
   "source": [
    "# Create a model\n",
    "m = Model(\"Project Optimization\")"
   ]
  },
  {
   "cell_type": "code",
   "execution_count": 3,
   "metadata": {},
   "outputs": [],
   "source": [
    "# Create the decision variables\n",
    "p1 = m.addVar(vtype=GRB.BINARY, name=\"Project 1\")\n",
    "p2 = m.addVar(vtype=GRB.BINARY, name=\"Project 2\")\n",
    "p3 = m.addVar(vtype=GRB.BINARY, name=\"Project 3\")\n",
    "p4 = m.addVar(vtype=GRB.BINARY, name=\"Project 4\")\n",
    "p5 = m.addVar(vtype=GRB.BINARY, name=\"Project 5\")\n",
    "p6 = m.addVar(vtype=GRB.BINARY, name=\"Project 6\")\n",
    "p7 = m.addVar(vtype=GRB.BINARY, name=\"Project 7\")\n",
    "p8 = m.addVar(vtype=GRB.BINARY, name=\"Project 8\")\n",
    "\n",
    "\n",
    "# Define objective function - maximize profit\n",
    "m.setObjective(36000*p1 + 82000*p2 + 29000*p3 + 16000*p4 + 56000*p5 + 61000*p6 + 48000*p7 + 41000*p8, GRB.MAXIMIZE)"
   ]
  },
  {
   "cell_type": "markdown",
   "metadata": {},
   "source": [
    "### Define Constraints"
   ]
  },
  {
   "cell_type": "code",
   "execution_count": 4,
   "metadata": {},
   "outputs": [
    {
     "name": "stdout",
     "output_type": "stream",
     "text": [
      "Gurobi Optimizer version 9.1.1 build v9.1.1rc0 (mac64)\n",
      "Thread count: 2 physical cores, 4 logical processors, using up to 4 threads\n",
      "Optimize a model with 2 rows, 8 columns and 16 nonzeros\n",
      "Model fingerprint: 0xab6a6d63\n",
      "Variable types: 0 continuous, 8 integer (8 binary)\n",
      "Coefficient statistics:\n",
      "  Matrix range     [4e+00, 1e+05]\n",
      "  Objective range  [2e+04, 8e+04]\n",
      "  Bounds range     [1e+00, 1e+00]\n",
      "  RHS range        [4e+01, 3e+05]\n",
      "Found heuristic solution: objective 163000.00000\n",
      "Presolve removed 1 rows and 0 columns\n",
      "Presolve time: 0.00s\n",
      "Presolved: 1 rows, 8 columns, 8 nonzeros\n",
      "Variable types: 0 continuous, 8 integer (8 binary)\n",
      "\n",
      "Root relaxation: objective 2.080308e+05, 1 iterations, 0.00 seconds\n",
      "\n",
      "    Nodes    |    Current Node    |     Objective Bounds      |     Work\n",
      " Expl Unexpl |  Obj  Depth IntInf | Incumbent    BestBd   Gap | It/Node Time\n",
      "\n",
      "     0     0 208030.769    0    1 163000.000 208030.769  27.6%     -    0s\n",
      "H    0     0                    199000.00000 208030.769  4.54%     -    0s\n",
      "     0     0     cutoff    0      199000.000 199000.000  0.00%     -    0s\n",
      "\n",
      "Cutting planes:\n",
      "  Cover: 1\n",
      "\n",
      "Explored 1 nodes (3 simplex iterations) in 0.03 seconds\n",
      "Thread count was 4 (of 4 available processors)\n",
      "\n",
      "Solution count 2: 199000 163000 \n",
      "\n",
      "Optimal solution found (tolerance 1.00e-04)\n",
      "Best objective 1.990000000000e+05, best bound 1.990000000000e+05, gap 0.0000%\n"
     ]
    }
   ],
   "source": [
    "# only 40 scientists available\n",
    "m.addConstr(7*p1 + 9*p2 + 8*p3 + 4*p4 + 7*p5 + 6*p6 + 8*p7 + 5*p8 <= 40, \"Scientists\")\n",
    "\n",
    "# budget of $300,000\n",
    "m.addConstr(60000*p1 + 110000*p2 + 53000*p3 + 47000*p4 + 92000*p5 + 85000*p6 + 73000*p7 + 65000*p8 <= 300000,\n",
    "            \"Budget\")\n",
    "\n",
    "# Optimize model\n",
    "m.optimize()"
   ]
  },
  {
   "cell_type": "code",
   "execution_count": 5,
   "metadata": {},
   "outputs": [
    {
     "name": "stdout",
     "output_type": "stream",
     "text": [
      "Project 1 0\n",
      "Project 2 1\n",
      "Project 3 0\n",
      "Project 4 0\n",
      "Project 5 1\n",
      "Project 6 1\n",
      "Project 7 0\n",
      "Project 8 0\n",
      "Obj: 199000\n",
      "2\n"
     ]
    }
   ],
   "source": [
    "#Print results\n",
    "for v in m.getVars():\n",
    "    print('%s %g' % (v.varName, v.x))\n",
    "    \n",
    "#Print results for objective\n",
    "print('Obj: %g' % m.objVal)\n",
    "print(m.status)"
   ]
  },
  {
   "cell_type": "code",
   "execution_count": 6,
   "metadata": {},
   "outputs": [
    {
     "name": "stdout",
     "output_type": "stream",
     "text": [
      "Number of solutions:  2\n",
      "Now showing all possible solutions and objective value\n",
      "Objective value is: 199000 \n",
      "Project 1 0\n",
      "Project 2 1\n",
      "Project 3 0\n",
      "Project 4 0\n",
      "Project 5 1\n",
      "Project 6 1\n",
      "Project 7 0\n",
      "Project 8 0\n",
      "Objective value is: 163000 \n",
      "Project 1 1\n",
      "Project 2 1\n",
      "Project 3 1\n",
      "Project 4 1\n",
      "Project 5 -0\n",
      "Project 6 -0\n",
      "Project 7 -0\n",
      "Project 8 -0\n"
     ]
    }
   ],
   "source": [
    "print('Number of solutions: ',m.SolCount)\n",
    "print('Now showing all possible solutions and objective value') \n",
    "for s in range(m.SolCount):\n",
    "    m.setParam(GRB.Param.SolutionNumber, s) \n",
    "    print('Objective value is:','%g ' % m.PoolObjVal) \n",
    "    for q in m.getVars():\n",
    "        print('%s %g' % (q.varName, q.Xn))"
   ]
  },
  {
   "cell_type": "code",
   "execution_count": null,
   "metadata": {},
   "outputs": [],
   "source": []
  }
 ],
 "metadata": {
  "kernelspec": {
   "display_name": "Python 3",
   "language": "python",
   "name": "python3"
  },
  "language_info": {
   "codemirror_mode": {
    "name": "ipython",
    "version": 3
   },
   "file_extension": ".py",
   "mimetype": "text/x-python",
   "name": "python",
   "nbconvert_exporter": "python",
   "pygments_lexer": "ipython3",
   "version": "3.7.6"
  }
 },
 "nbformat": 4,
 "nbformat_minor": 4
}
