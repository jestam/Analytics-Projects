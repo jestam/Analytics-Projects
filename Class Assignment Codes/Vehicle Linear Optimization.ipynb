{
 "cells": [
  {
   "cell_type": "markdown",
   "metadata": {},
   "source": [
    "### Import Gurobi"
   ]
  },
  {
   "cell_type": "code",
   "execution_count": 1,
   "metadata": {},
   "outputs": [],
   "source": [
    "# Import gurobipy\n",
    "from gurobipy import *"
   ]
  },
  {
   "cell_type": "markdown",
   "metadata": {},
   "source": [
    "### Create Model, Decision Variables & Objective Function"
   ]
  },
  {
   "cell_type": "code",
   "execution_count": 2,
   "metadata": {},
   "outputs": [
    {
     "name": "stdout",
     "output_type": "stream",
     "text": [
      "Academic license - for non-commercial use only - expires 2021-03-14\n",
      "Using license file /Users/jessietam/gurobi.lic\n"
     ]
    }
   ],
   "source": [
    "# Create a model\n",
    "m = Model(\"Vehicle Production Optimization\")"
   ]
  },
  {
   "cell_type": "code",
   "execution_count": 3,
   "metadata": {},
   "outputs": [],
   "source": [
    "# Create the decision variables\n",
    "S = m.addVar(vtype=GRB.CONTINUOUS, name=\"Subcompact Car\")\n",
    "C = m.addVar(vtype=GRB.CONTINUOUS, name=\"Compact Car\")\n",
    "I = m.addVar(vtype=GRB.CONTINUOUS, name=\"Intermediate Car\")\n",
    "L = m.addVar(vtype=GRB.CONTINUOUS, name=\"Luxury Car\")\n",
    "T = m.addVar(vtype=GRB.CONTINUOUS, name=\"Truck\")\n",
    "V = m.addVar(vtype=GRB.CONTINUOUS, name=\"Van\")\n",
    "\n",
    "\n",
    "# Define objective function - maximize profit\n",
    "m.setObjective(150*S + 225*C + 250*I + 500*L + 400*T + 200*V, GRB.MAXIMIZE)"
   ]
  },
  {
   "cell_type": "markdown",
   "metadata": {},
   "source": [
    "### Define Constraints"
   ]
  },
  {
   "cell_type": "code",
   "execution_count": 4,
   "metadata": {},
   "outputs": [
    {
     "name": "stdout",
     "output_type": "stream",
     "text": [
      "Gurobi Optimizer version 9.1.1 build v9.1.1rc0 (mac64)\n",
      "Thread count: 2 physical cores, 4 logical processors, using up to 4 threads\n",
      "Optimize a model with 12 rows, 6 columns and 28 nonzeros\n",
      "Model fingerprint: 0x4c437ced\n",
      "Coefficient statistics:\n",
      "  Matrix range     [5e-01, 2e+01]\n",
      "  Objective range  [2e+02, 5e+02]\n",
      "  Bounds range     [0e+00, 0e+00]\n",
      "  RHS range        [1e+05, 1e+06]\n",
      "Presolve removed 6 rows and 0 columns\n",
      "Presolve time: 0.02s\n",
      "Presolved: 6 rows, 6 columns, 22 nonzeros\n",
      "\n",
      "Iteration    Objective       Primal Inf.    Dual Inf.      Time\n",
      "       0    6.0000000e+08   2.050000e+06   0.000000e+00      0s\n",
      "       6    3.5800000e+08   0.000000e+00   0.000000e+00      0s\n",
      "\n",
      "Solved in 6 iterations and 0.06 seconds\n",
      "Optimal objective  3.580000000e+08\n"
     ]
    }
   ],
   "source": [
    "# Market potential contraints for each vehicle\n",
    "m.addConstr(S <= 600000, \"Subcompact Market Potential\")\n",
    "m.addConstr(C <= 400000, \"Compact Market Potential\")\n",
    "m.addConstr(I <= 300000, \"Intermediate Market Potential\")\n",
    "m.addConstr(L <= 225000, \"Luxury Market Potential\")\n",
    "m.addConstr(T <= 325000, \"Truck Market Potential\")\n",
    "m.addConstr(V <= 100000, \"Van Market Potential\")\n",
    "\n",
    "# Vehicle production limits\n",
    "m.addConstr(S + C + I + L + T + V <= 1200000, \"Vendor Production Capacity\")\n",
    "m.addConstr(S + C <= 620000, \"S & C Facility Capacity\")\n",
    "m.addConstr(I + L <= 400000, \"I & L Facility Capacity\")\n",
    "m.addConstr(T + V <= 275000, \"T & V Facility Capacity\")\n",
    "\n",
    "# Marketing strategy constraint\n",
    "m.addConstr(0.5*S + 0.5*C - 0.5*I - 0.5*L >= 0, \"At least 50% of cars are S & C\")\n",
    "\n",
    "# Average fuel economy is at least 27 mpg\n",
    "m.addConstr(13*S + 7*C - 12*I - 15*L - 7*T - 2*V >= 0, \"Average Fuel Economy Standard\")\n",
    "\n",
    "# Optimize model\n",
    "m.optimize()"
   ]
  },
  {
   "cell_type": "code",
   "execution_count": 5,
   "metadata": {},
   "outputs": [
    {
     "name": "stdout",
     "output_type": "stream",
     "text": [
      "Subcompact Car 320000\n",
      "Compact Car 300000\n",
      "Intermediate Car 80000\n",
      "Luxury Car 225000\n",
      "Truck 275000\n",
      "Van 0\n",
      "Obj: 3.58e+08\n"
     ]
    }
   ],
   "source": [
    "# Print results\n",
    "for v in m.getVars():\n",
    "    print('%s %g' % (v.varName, v.x))\n",
    "    \n",
    "# Print results for objective\n",
    "print('Obj: %g' % m.objVal)"
   ]
  },
  {
   "cell_type": "code",
   "execution_count": 6,
   "metadata": {},
   "outputs": [
    {
     "name": "stdout",
     "output_type": "stream",
     "text": [
      "Subcompact Market Potential: 280000\n",
      "Compact Market Potential: 100000\n",
      "Intermediate Market Potential: 220000\n",
      "Luxury Market Potential: 0\n",
      "Truck Market Potential: 50000\n",
      "Van Market Potential: 100000\n",
      "Vendor Production Capacity: 0\n",
      "S & C Facility Capacity: 0\n",
      "I & L Facility Capacity: 95000\n",
      "T & V Facility Capacity: 0\n",
      "At least 50% of cars are S & C: -157500\n",
      "Average Fuel Economy Standard: 0\n"
     ]
    }
   ],
   "source": [
    "# Display binding constraints\n",
    "for c in m.getConstrs():\n",
    "    print('%s: %g' % (c.ConstrName, c.slack))"
   ]
  },
  {
   "cell_type": "code",
   "execution_count": 7,
   "metadata": {},
   "outputs": [
    {
     "name": "stdout",
     "output_type": "stream",
     "text": [
      "\n",
      "  Constraint           Pi \n",
      "-------------------------\n",
      "Luxury Market Potential        212.5 \n",
      "Vendor Production Capacity          100 \n",
      "S & C Facility Capacity        212.5 \n",
      "T & V Facility Capacity        212.5 \n",
      "Average Fuel Economy Standard        -12.5 \n"
     ]
    }
   ],
   "source": [
    "# Create variable for shadow prices\n",
    "shadow_prices = m.getAttr('Pi') \n",
    "\n",
    "# Print non-zero shadow prices\n",
    "m.printAttr('Pi')"
   ]
  },
  {
   "cell_type": "code",
   "execution_count": 8,
   "metadata": {},
   "outputs": [
    {
     "name": "stdout",
     "output_type": "stream",
     "text": [
      "Subcompact Car: 0\n",
      "Compact Car: 0\n",
      "Intermediate Car: 0\n",
      "Luxury Car: 0\n",
      "Truck: 0\n",
      "Van: -137.5\n"
     ]
    }
   ],
   "source": [
    "# Print reduced cost\n",
    "for v in m.getVars():\n",
    "    print('%s: %g' % (v.varName, v.rc))"
   ]
  },
  {
   "cell_type": "code",
   "execution_count": null,
   "metadata": {},
   "outputs": [],
   "source": []
  }
 ],
 "metadata": {
  "kernelspec": {
   "display_name": "Python 3",
   "language": "python",
   "name": "python3"
  },
  "language_info": {
   "codemirror_mode": {
    "name": "ipython",
    "version": 3
   },
   "file_extension": ".py",
   "mimetype": "text/x-python",
   "name": "python",
   "nbconvert_exporter": "python",
   "pygments_lexer": "ipython3",
   "version": "3.7.6"
  }
 },
 "nbformat": 4,
 "nbformat_minor": 4
}
