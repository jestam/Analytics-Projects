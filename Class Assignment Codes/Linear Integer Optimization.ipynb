{
 "cells": [
  {
   "cell_type": "markdown",
   "metadata": {},
   "source": [
    "### Import Gurobi"
   ]
  },
  {
   "cell_type": "code",
   "execution_count": 1,
   "metadata": {},
   "outputs": [],
   "source": [
    "#import gurobipy\n",
    "from gurobipy import *\n",
    "import numpy as np"
   ]
  },
  {
   "cell_type": "markdown",
   "metadata": {},
   "source": [
    "### Create Model, Decision Variables & Objective Function"
   ]
  },
  {
   "cell_type": "code",
   "execution_count": 2,
   "metadata": {},
   "outputs": [],
   "source": [
    "### Define parameters/coefficients for model\n",
    "ShipCost =   [[9, 15, 8, 10],\n",
    "              [7, 15, 14, 12],\n",
    "              [5, 5, 11, 12],\n",
    "              [3, 6, 8, 11]]\n",
    "\n",
    "Capacity = [125, 100, 150, 120]\n",
    "\n",
    "Demand = [110, 115, 135, 130]\n",
    "\n",
    "ProdCost = [50, 57, 55, 61]\n",
    "\n",
    "# Range of plants and mines\n",
    "plants = len(Capacity) #should be 3\n",
    "mines = len(Demand) #should be 4"
   ]
  },
  {
   "cell_type": "code",
   "execution_count": 3,
   "metadata": {},
   "outputs": [
    {
     "name": "stdout",
     "output_type": "stream",
     "text": [
      "Academic license - for non-commercial use only - expires 2021-03-14\n",
      "Using license file /Users/jessietam/gurobi.lic\n"
     ]
    }
   ],
   "source": [
    "m=Model()\n",
    "x = {}\n",
    "\n",
    "#variable for every mine-plant combo\n",
    "for i in range(mines):\n",
    "    for j in range(plants):\n",
    "        x[(i,j)] = m.addVar(vtype=GRB.CONTINUOUS, name='x%d,%d' % (i,j))\n",
    "        \n",
    "m.update()\n",
    "\n",
    "m.setObjective(quicksum(quicksum(ShipCost[i][j]*x[(i,j)] for i in range(mines)) for j in range(plants)) +\n",
    "               quicksum(quicksum(ProdCost[i]*x[(i,j)] for i in range(mines)) for j in range(plants)),GRB.MINIMIZE) "
   ]
  },
  {
   "cell_type": "markdown",
   "metadata": {},
   "source": [
    "### Define Constraints"
   ]
  },
  {
   "cell_type": "code",
   "execution_count": 4,
   "metadata": {},
   "outputs": [
    {
     "name": "stdout",
     "output_type": "stream",
     "text": [
      "Gurobi Optimizer version 9.1.1 build v9.1.1rc0 (mac64)\n",
      "Thread count: 2 physical cores, 4 logical processors, using up to 4 threads\n",
      "Optimize a model with 8 rows, 16 columns and 32 nonzeros\n",
      "Model fingerprint: 0x90428fee\n",
      "Coefficient statistics:\n",
      "  Matrix range     [1e+00, 1e+00]\n",
      "  Objective range  [6e+01, 7e+01]\n",
      "  Bounds range     [0e+00, 0e+00]\n",
      "  RHS range        [1e+02, 2e+02]\n",
      "Presolve time: 0.04s\n",
      "Presolved: 8 rows, 16 columns, 32 nonzeros\n",
      "\n",
      "Iteration    Objective       Primal Inf.    Dual Inf.      Time\n",
      "       0    0.0000000e+00   4.900000e+02   0.000000e+00      0s\n",
      "      10    3.0770000e+04   0.000000e+00   0.000000e+00      0s\n",
      "\n",
      "Solved in 10 iterations and 0.07 seconds\n",
      "Optimal objective  3.077000000e+04\n"
     ]
    }
   ],
   "source": [
    "##Add constraints\n",
    "for i in range(mines):\n",
    "    m.addConstr(quicksum(x[(i,j)] for j in range(plants)) <= Capacity[i])\n",
    "    \n",
    "for j in range(plants):\n",
    "    m.addConstr(quicksum(x[(i,j)] for i in range(mines)) >= Demand[j])\n",
    "\n",
    "m.optimize()"
   ]
  },
  {
   "cell_type": "markdown",
   "metadata": {},
   "source": [
    "### Print Results"
   ]
  },
  {
   "cell_type": "code",
   "execution_count": 5,
   "metadata": {},
   "outputs": [
    {
     "name": "stdout",
     "output_type": "stream",
     "text": [
      "x0,0 0\n",
      "x0,1 0\n",
      "x0,2 125\n",
      "x0,3 0\n",
      "x1,0 0\n",
      "x1,1 0\n",
      "x1,2 0\n",
      "x1,3 100\n",
      "x2,0 5\n",
      "x2,1 115\n",
      "x2,2 0\n",
      "x2,3 30\n",
      "x3,0 105\n",
      "x3,1 0\n",
      "x3,2 10\n",
      "x3,3 0\n",
      "Obj: 30770\n"
     ]
    }
   ],
   "source": [
    "#Print results\n",
    "for v in m.getVars():\n",
    "    print('%s %g' % (v.varName, v.x))\n",
    "    \n",
    "print('Obj: %g' % m.objVal)"
   ]
  },
  {
   "cell_type": "markdown",
   "metadata": {},
   "source": [
    "### Shadow Price & Reduce Cost"
   ]
  },
  {
   "cell_type": "code",
   "execution_count": 6,
   "metadata": {},
   "outputs": [
    {
     "name": "stdout",
     "output_type": "stream",
     "text": [
      "\n",
      "  Constraint           Pi \n",
      "-------------------------\n",
      "          R0          -11 \n",
      "          R1           -2 \n",
      "          R2           -4 \n",
      "          R4           64 \n",
      "          R5           64 \n",
      "          R6           69 \n",
      "          R7           71 \n"
     ]
    }
   ],
   "source": [
    "# Get shadow prices\n",
    "shadow_prices = m.getAttr('Pi')\n",
    "m.printAttr('Pi')\n",
    "# 7 binding constraints\n",
    "# 3 capacity are binding\n",
    "# all demand are binding"
   ]
  },
  {
   "cell_type": "code",
   "execution_count": 7,
   "metadata": {},
   "outputs": [
    {
     "name": "stdout",
     "output_type": "stream",
     "text": [
      "\n",
      "    Variable           rc \n",
      "-------------------------\n",
      "        x0,0            6 \n",
      "        x0,1           12 \n",
      "        x1,0            2 \n",
      "        x1,1           10 \n",
      "        x1,2            4 \n",
      "        x2,2            1 \n",
      "        x3,1            3 \n",
      "        x3,3            1 \n"
     ]
    }
   ],
   "source": [
    "# Get reduce cost\n",
    "m.printAttr('rc')"
   ]
  },
  {
   "cell_type": "code",
   "execution_count": null,
   "metadata": {},
   "outputs": [],
   "source": []
  }
 ],
 "metadata": {
  "kernelspec": {
   "display_name": "Python 3",
   "language": "python",
   "name": "python3"
  },
  "language_info": {
   "codemirror_mode": {
    "name": "ipython",
    "version": 3
   },
   "file_extension": ".py",
   "mimetype": "text/x-python",
   "name": "python",
   "nbconvert_exporter": "python",
   "pygments_lexer": "ipython3",
   "version": "3.7.6"
  }
 },
 "nbformat": 4,
 "nbformat_minor": 4
}
