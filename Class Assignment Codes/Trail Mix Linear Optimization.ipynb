{
 "cells": [
  {
   "cell_type": "code",
   "execution_count": 1,
   "metadata": {},
   "outputs": [],
   "source": [
    "#import gurobipy\n",
    "from gurobipy import *"
   ]
  },
  {
   "cell_type": "code",
   "execution_count": 2,
   "metadata": {},
   "outputs": [
    {
     "name": "stdout",
     "output_type": "stream",
     "text": [
      "Academic license - for non-commercial use only - expires 2021-03-14\n",
      "Using license file /Users/jessietam/gurobi.lic\n"
     ]
    }
   ],
   "source": [
    "#Create a model\n",
    "m = Model(\"TrailMix\")"
   ]
  },
  {
   "cell_type": "code",
   "execution_count": 3,
   "metadata": {},
   "outputs": [
    {
     "name": "stdout",
     "output_type": "stream",
     "text": [
      "Gurobi Optimizer version 9.1.1 build v9.1.1rc0 (mac64)\n",
      "Thread count: 2 physical cores, 4 logical processors, using up to 4 threads\n",
      "Optimize a model with 4 rows, 5 columns and 20 nonzeros\n",
      "Model fingerprint: 0xbd9b0c7e\n",
      "Coefficient statistics:\n",
      "  Matrix range     [1e+00, 5e+02]\n",
      "  Objective range  [3e+00, 7e+00]\n",
      "  Bounds range     [0e+00, 0e+00]\n",
      "  RHS range        [1e+01, 6e+02]\n",
      "Presolve time: 0.06s\n",
      "Presolved: 4 rows, 5 columns, 20 nonzeros\n",
      "\n",
      "Iteration    Objective       Primal Inf.    Dual Inf.      Time\n",
      "       0    0.0000000e+00   9.250000e+01   0.000000e+00      0s\n",
      "       3    7.5357995e+00   0.000000e+00   0.000000e+00      0s\n",
      "\n",
      "Solved in 3 iterations and 0.12 seconds\n",
      "Optimal objective  7.535799523e+00\n"
     ]
    }
   ],
   "source": [
    "#Create the decision variables\n",
    "s = m.addVar(vtype=GRB.CONTINUOUS, name=\"Seeds\")\n",
    "r = m.addVar(vtype=GRB.CONTINUOUS, name=\"Raisins\")\n",
    "f = m.addVar(vtype=GRB.CONTINUOUS, name=\"Flakes\")\n",
    "p = m.addVar(vtype=GRB.CONTINUOUS, name=\"Pecans\")\n",
    "w = m.addVar(vtype=GRB.CONTINUOUS, name=\"Walnuts\")\n",
    "\n",
    "#Define Ojective Function - minimize cost\n",
    "m.setObjective(4*s + 5*r + 3*f + 7*p + 6*w, GRB.MINIMIZE)\n",
    "\n",
    "#Define Constraints - have specified minimum nutritional value\n",
    "m.addConstr(10*s+20*r+10*f+30*p+20*w >= 20, \"Vitamins\")\n",
    "m.addConstr(5*s+7*r+4*f+9*p+2*w >= 10, \"Minerals\")\n",
    "m.addConstr(1*s+4*r+10*f+2*p+1*w >= 15, \"Protein\")\n",
    "m.addConstr(500*s+450*r+160*f+300*p+500*w >= 600, \"Calories\")\n",
    "\n",
    "#Optimize model\n",
    "m.optimize()"
   ]
  },
  {
   "cell_type": "code",
   "execution_count": 4,
   "metadata": {},
   "outputs": [
    {
     "name": "stdout",
     "output_type": "stream",
     "text": [
      "Seeds 0.477327\n",
      "Raisins 0.334129\n",
      "Flakes 1.31862\n",
      "Pecans 0\n",
      "Walnuts 0\n",
      "Obj: 7.5358\n"
     ]
    }
   ],
   "source": [
    "#Print Results for each constraint\n",
    "for v in m.getVars():\n",
    "    print('%s %g' % (v.varName, v.x))\n",
    "    \n",
    "#Print results for objective using optimized constraints\n",
    "print('Obj: %g' % m.objVal)"
   ]
  },
  {
   "cell_type": "code",
   "execution_count": 5,
   "metadata": {},
   "outputs": [
    {
     "name": "stdout",
     "output_type": "stream",
     "text": [
      "Vitamins: -4.642\n",
      "Minerals: 0\n",
      "Protein: 0\n",
      "Calories: 0\n"
     ]
    }
   ],
   "source": [
    "#Display binding constraints AKA \n",
    "#anything that is 0 means the constraint at the specified value\n",
    "#in this case mineral = 10, protein = 15, calories = 500 \n",
    "#when the optimal decision variables are plugged into the respective constraints\n",
    "for c in m.getConstrs():\n",
    "    print('%s: %g' % (c.ConstrName, c.slack))"
   ]
  },
  {
   "cell_type": "code",
   "execution_count": 6,
   "metadata": {},
   "outputs": [
    {
     "name": "stdout",
     "output_type": "stream",
     "text": [
      "\n",
      "  Constraint           Pi \n",
      "-------------------------\n",
      "    Minerals     0.490453 \n",
      "     Protein    0.0560859 \n",
      "    Calories   0.00298329 \n"
     ]
    }
   ],
   "source": [
    "#create variable for shadow prices (Pi = shadow price)\n",
    "shadow_prices = m.getAttr('Pi') \n",
    "\n",
    "#Print non-zero shadow prices\n",
    "m.printAttr('Pi')"
   ]
  },
  {
   "cell_type": "code",
   "execution_count": 7,
   "metadata": {},
   "outputs": [
    {
     "name": "stdout",
     "output_type": "stream",
     "text": [
      "Seeds: 0\n",
      "Raisins: 0\n",
      "Flakes: 0\n",
      "Pecans: 1.57876\n",
      "Walnuts: 3.47136\n"
     ]
    }
   ],
   "source": [
    "#find reduced cost AKA what needs to be changed in order for \n",
    "#decision variables that are 0 in the optimal solution to be non-zero\n",
    "for v in m.getVars():\n",
    "    print('%s: %g' % (v.varName, v.rc))"
   ]
  },
  {
   "cell_type": "code",
   "execution_count": null,
   "metadata": {},
   "outputs": [],
   "source": []
  }
 ],
 "metadata": {
  "kernelspec": {
   "display_name": "Python 3",
   "language": "python",
   "name": "python3"
  },
  "language_info": {
   "codemirror_mode": {
    "name": "ipython",
    "version": 3
   },
   "file_extension": ".py",
   "mimetype": "text/x-python",
   "name": "python",
   "nbconvert_exporter": "python",
   "pygments_lexer": "ipython3",
   "version": "3.7.6"
  }
 },
 "nbformat": 4,
 "nbformat_minor": 4
}
