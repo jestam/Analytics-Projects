{
 "cells": [
  {
   "cell_type": "code",
   "execution_count": null,
   "metadata": {},
   "outputs": [],
   "source": [
    "#import gurobipy\n",
    "from gurobipy import *"
   ]
  },
  {
   "cell_type": "code",
   "execution_count": null,
   "metadata": {},
   "outputs": [],
   "source": [
    "#Create a model\n",
    "m = Model(\"TrailMix\")"
   ]
  },
  {
   "cell_type": "code",
   "execution_count": null,
   "metadata": {},
   "outputs": [],
   "source": [
    "#Create the decision variables\n",
    "s = m.addVar(vtype=GRB.CONTINUOUS, name=\"Seeds\")\n",
    "r = m.addVar(vtype=GRB.CONTINUOUS, name=\"Raisins\")\n",
    "f = m.addVar(vtype=GRB.CONTINUOUS, name=\"Flakes\")\n",
    "p = m.addVar(vtype=GRB.CONTINUOUS, name=\"Pecans\")\n",
    "w = m.addVar(vtype=GRB.CONTINUOUS, name=\"Walnuts\")\n",
    "\n",
    "#Define Objective Function - minimize cost\n",
    "m.setObjective(4*s + 5*r + 3*f + 7*p + 6*w, GRB.MINIMIZE)\n",
    "\n",
    "#Define Constraints - have specified minimum nutritional value\n",
    "m.addConstr(10*s+20*r+10*f+30*p+20*w >= 20, \"Vitamins\")\n",
    "m.addConstr(5*s+7*r+4*f+9*p+2*w >= 10, \"Minerals\")\n",
    "m.addConstr(1*s+4*r+10*f+2*p+1*w >= 15, \"Protein\")\n",
    "m.addConstr(500*s+450*r+160*f+300*p+500*w >= 600, \"Calories\")\n",
    "\n",
    "#Optimize model\n",
    "m.optimize()"
   ]
  },
  {
   "cell_type": "code",
   "execution_count": null,
   "metadata": {},
   "outputs": [],
   "source": [
    "#Print Results for each constraint\n",
    "for v in m.getVars():\n",
    "    print('%s %g' % (v.varName, v.x))\n",
    "    \n",
    "#Print results for objective using optimized constraints\n",
    "print('Obj: %g' % m.objVal)"
   ]
  },
  {
   "cell_type": "code",
   "execution_count": null,
   "metadata": {},
   "outputs": [],
   "source": [
    "#Display binding constraints\n",
    "for c in m.getConstrs():\n",
    "    print('%s: %g' % (c.ConstrName, c.slack))"
   ]
  },
  {
   "cell_type": "code",
   "execution_count": null,
   "metadata": {},
   "outputs": [],
   "source": [
    "#create variable for shadow prices\n",
    "shadow_prices = m.getAttr('Pi') \n",
    "\n",
    "#Print non-zero shadow prices\n",
    "m.printAttr('Pi')"
   ]
  },
  {
   "cell_type": "code",
   "execution_count": null,
   "metadata": {},
   "outputs": [],
   "source": [
    "#find reduced cost\n",
    "for v in m.getVars():\n",
    "    print('%s: %g' % (v.varName, v.rc))"
   ]
  },
  {
   "cell_type": "code",
   "execution_count": null,
   "metadata": {},
   "outputs": [],
   "source": []
  }
 ],
 "metadata": {
  "kernelspec": {
   "display_name": "Python 3",
   "language": "python",
   "name": "python3"
  },
  "language_info": {
   "codemirror_mode": {
    "name": "ipython",
    "version": 3
   },
   "file_extension": ".py",
   "mimetype": "text/x-python",
   "name": "python",
   "nbconvert_exporter": "python",
   "pygments_lexer": "ipython3",
   "version": "3.7.6"
  }
 },
 "nbformat": 4,
 "nbformat_minor": 4
}
